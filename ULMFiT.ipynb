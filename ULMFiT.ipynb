{
  "nbformat": 4,
  "nbformat_minor": 0,
  "metadata": {
    "colab": {
      "name": "ULMFiT.ipynb",
      "version": "0.3.2",
      "provenance": [],
      "collapsed_sections": [],
      "include_colab_link": true
    },
    "kernelspec": {
      "name": "python3",
      "display_name": "Python 3"
    },
    "accelerator": "GPU"
  },
  "cells": [
    {
      "cell_type": "markdown",
      "metadata": {
        "id": "view-in-github",
        "colab_type": "text"
      },
      "source": [
        "<a href=\"https://colab.research.google.com/github/Keenandrea/ULMFiT/blob/master/ULMFiT.ipynb\" target=\"_parent\"><img src=\"https://colab.research.google.com/assets/colab-badge.svg\" alt=\"Open In Colab\"/></a>"
      ]
    },
    {
      "cell_type": "markdown",
      "metadata": {
        "id": "dwllDsVv1i42",
        "colab_type": "text"
      },
      "source": [
        "# ULMFiT: But What Does It Do?\n",
        "\n",
        "---\n",
        "Universal Language Model Fine-Tuning for Text Classification, or, ULMFiT, in Layman's terms, is a method that opens the door of Transfer Learning to NLP. \n",
        "\n",
        "ULMFiT fine-tunes a pre-trained language model to a new dataset using a technique that does not allow the model to forget what it previously learned. \n",
        "\n",
        "Language modeling boxes general properties of a language into enormous amounts of data which can then be plugged into downstream NLP tasks. Here is a link to the original [ULMFiT](https://arxiv.org/abs/1801.06146) paper.\n",
        "\n",
        "---\n",
        "\n",
        "## but what are we going to do?\n",
        "\n",
        "---\n",
        "\n",
        "We're going to fine-tune a pre-trained model, then use it for text classification on a new dataset. Our new dataset will be small, less than one-thousand labeled instances. Let's hit it."
      ]
    },
    {
      "cell_type": "markdown",
      "metadata": {
        "id": "sQ7fUYcQzX7v",
        "colab_type": "text"
      },
      "source": [
        "# Importing Dependencies\n",
        "\n",
        "---\n",
        "\n",
        "If you haven't heard of stacking [PyTorch](https://pytorch.org/) and [fastai](https://www.fast.ai/) for models, you should click the links. Our environment will be using both."
      ]
    },
    {
      "cell_type": "code",
      "metadata": {
        "id": "mM1Jb7JEyMSq",
        "colab_type": "code",
        "colab": {}
      },
      "source": [
        "!pip install torch_nightly -f https://download.pytorch.org/whl/nightly/cu92/torch_nightly.html\n",
        "!pip install fastai"
      ],
      "execution_count": 0,
      "outputs": []
    },
    {
      "cell_type": "markdown",
      "metadata": {
        "id": "bDa5-YSP5FrH",
        "colab_type": "text"
      },
      "source": [
        "Then we'll download other popular libraries along with PyTorch and fastai:"
      ]
    },
    {
      "cell_type": "code",
      "metadata": {
        "id": "GJXWpueDyiy3",
        "colab_type": "code",
        "colab": {}
      },
      "source": [
        "import fastai\n",
        "from fastai import *\n",
        "from fastai.text import * \n",
        "import pandas as pd\n",
        "import numpy as np\n",
        "from functools import partial\n",
        "import io\n",
        "import os"
      ],
      "execution_count": 0,
      "outputs": []
    },
    {
      "cell_type": "markdown",
      "metadata": {
        "id": "hUKgWUS-5R1i",
        "colab_type": "text"
      },
      "source": [
        "And then we'll import the less-than-one-thousand-labeled-instances-new-dataset we spoke of earlier. Here's a link to the dataset: [ sklearn.datasets](https://scikit-learn.org/stable/modules/generated/sklearn.datasets.fetch_20newsgroups.html#sklearn.datasets.fetch_20newsgroups)."
      ]
    },
    {
      "cell_type": "code",
      "metadata": {
        "id": "S0o39aF8yn7y",
        "colab_type": "code",
        "colab": {}
      },
      "source": [
        "from sklearn.datasets import fetch_20newsgroups\n",
        "dataset = fetch_20newsgroups(shuffle=True, random_state=1, remove=('headers', 'footers', 'quotes'))\n",
        "documents = dataset.data"
      ],
      "execution_count": 0,
      "outputs": []
    },
    {
      "cell_type": "code",
      "metadata": {
        "id": "OYoz1eX8yrtE",
        "colab_type": "code",
        "colab": {}
      },
      "source": [
        "dataset.target_names"
      ],
      "execution_count": 0,
      "outputs": []
    },
    {
      "cell_type": "markdown",
      "metadata": {
        "id": "ZQONeKf76wip",
        "colab_type": "text"
      },
      "source": [
        "We'll create a [ pandas.DataFrame](https://pandas.pydata.org/pandas-docs/stable/reference/api/pandas.DataFrame.html), a tabular data structure with labeled axes, which, in our case, will be text documents and their corresponding newsgroup names:"
      ]
    },
    {
      "cell_type": "code",
      "metadata": {
        "id": "mOUXGRcjyuIg",
        "colab_type": "code",
        "colab": {}
      },
      "source": [
        "df = pd.DataFrame({'label':dataset.target,\n",
        "                   'text':dataset.data})"
      ],
      "execution_count": 0,
      "outputs": []
    },
    {
      "cell_type": "code",
      "metadata": {
        "id": "vGMYjWwJyweQ",
        "colab_type": "code",
        "colab": {
          "base_uri": "https://localhost:8080/",
          "height": 35
        },
        "outputId": "7e8feb08-e09a-4ab2-e31f-2a25cc7a9ff3"
      },
      "source": [
        "df.shape"
      ],
      "execution_count": 6,
      "outputs": [
        {
          "output_type": "execute_result",
          "data": {
            "text/plain": [
              "(11314, 2)"
            ]
          },
          "metadata": {
            "tags": []
          },
          "execution_count": 6
        }
      ]
    },
    {
      "cell_type": "markdown",
      "metadata": {
        "id": "6844dPuY7eDG",
        "colab_type": "text"
      },
      "source": [
        "Next we convert this into a [ binary classification](https://www.sciencedirect.com/topics/computer-science/binary-classification) problem, which considers assigning some element into one of two categories, by measuring a series of attributes.\n",
        "\n",
        "Our instance selects two out of the twenty labels present in the dataset. The two labels we will select will be labels- one and ten, which are *comp.graphics* and *rec.sport.hockey*."
      ]
    },
    {
      "cell_type": "code",
      "metadata": {
        "id": "WELx4sjGyybo",
        "colab_type": "code",
        "colab": {}
      },
      "source": [
        "df = df[df['label'].isin([1,10])]\n",
        "df = df.reset_index(drop = True)"
      ],
      "execution_count": 0,
      "outputs": []
    },
    {
      "cell_type": "markdown",
      "metadata": {
        "id": "N0JNgRBx8hmQ",
        "colab_type": "text"
      },
      "source": [
        "Looking at the target distribution, we can see that *comp.graphics* and *rec.sport.hockey* exhibit a fairly even distribution. That is good. That makes accuracy a good evaluation metric to use in our case."
      ]
    },
    {
      "cell_type": "code",
      "metadata": {
        "id": "ZNGfF7MPyz-Y",
        "colab_type": "code",
        "colab": {
          "base_uri": "https://localhost:8080/",
          "height": 69
        },
        "outputId": "b2d55b90-adf6-4c16-a991-12d76129dd29"
      },
      "source": [
        "df['label'].value_counts()"
      ],
      "execution_count": 8,
      "outputs": [
        {
          "output_type": "execute_result",
          "data": {
            "text/plain": [
              "10    600\n",
              "1     584\n",
              "Name: label, dtype: int64"
            ]
          },
          "metadata": {
            "tags": []
          },
          "execution_count": 8
        }
      ]
    },
    {
      "cell_type": "markdown",
      "metadata": {
        "id": "csWPdyazze-p",
        "colab_type": "text"
      },
      "source": [
        "# Preprocessing Stage\n",
        "\n",
        "---\n",
        "\n",
        "What matters almost most of a clean model is feeding it clean data, especially in NLP. \n",
        "\n",
        "We start off cleaning our data by retaining only alphabetical characters:"
      ]
    },
    {
      "cell_type": "code",
      "metadata": {
        "id": "Pz-kwNXaziVI",
        "colab_type": "code",
        "colab": {}
      },
      "source": [
        "df['text'] = df['text'].str.replace(\"[^a-zA-Z]\", \" \")"
      ],
      "execution_count": 0,
      "outputs": []
    },
    {
      "cell_type": "markdown",
      "metadata": {
        "id": "5ZQTO8qo9Vm3",
        "colab_type": "text"
      },
      "source": [
        "Then we remove the stopwords:"
      ]
    },
    {
      "cell_type": "code",
      "metadata": {
        "id": "f6jrLDAZzyBt",
        "colab_type": "code",
        "colab": {}
      },
      "source": [
        "import nltk\n",
        "nltk.download('stopwords')"
      ],
      "execution_count": 0,
      "outputs": []
    },
    {
      "cell_type": "code",
      "metadata": {
        "id": "gqBngMuAz0Kb",
        "colab_type": "code",
        "colab": {}
      },
      "source": [
        "from nltk.corpus import stopwords \n",
        "stop_words = stopwords.words('english')"
      ],
      "execution_count": 0,
      "outputs": []
    },
    {
      "cell_type": "markdown",
      "metadata": {
        "id": "6r9SiUXX9gTg",
        "colab_type": "text"
      },
      "source": [
        "Next phase, tokenization:"
      ]
    },
    {
      "cell_type": "code",
      "metadata": {
        "id": "sDX0VATvz2lb",
        "colab_type": "code",
        "colab": {}
      },
      "source": [
        "tokenized_doc = df['text'].apply(lambda x: x.split())\n",
        "\n",
        "# remove stop-words \n",
        "tokenized_doc = tokenized_doc.apply(lambda x: [item for item in x if item not in stop_words]) \n",
        "\n",
        "# de-tokenization \n",
        "detokenized_doc = [] \n",
        "for i in range(len(df)): \n",
        "    t = ' '.join(tokenized_doc[i]) \n",
        "    detokenized_doc.append(t) \n",
        "df['text'] = detokenized_doc"
      ],
      "execution_count": 0,
      "outputs": []
    },
    {
      "cell_type": "markdown",
      "metadata": {
        "id": "z3u4Hl0_9lep",
        "colab_type": "text"
      },
      "source": [
        "And finally, we split our cleaned dataset into training and validation sets by a 60:40 split:"
      ]
    },
    {
      "cell_type": "code",
      "metadata": {
        "id": "WqZ6im6fz5L1",
        "colab_type": "code",
        "colab": {}
      },
      "source": [
        "from sklearn.model_selection import train_test_split\n",
        "\n",
        "# split data into training and validation set\n",
        "df_trn, df_val = train_test_split(df, stratify = df['label'], test_size = 0.4, random_state = 12)"
      ],
      "execution_count": 0,
      "outputs": []
    },
    {
      "cell_type": "code",
      "metadata": {
        "id": "f_EajJ8E0Afo",
        "colab_type": "code",
        "colab": {
          "base_uri": "https://localhost:8080/",
          "height": 35
        },
        "outputId": "9951b2fe-f295-4291-8673-3ce94ae0244d"
      },
      "source": [
        "df_trn.shape, df_val.shape"
      ],
      "execution_count": 16,
      "outputs": [
        {
          "output_type": "execute_result",
          "data": {
            "text/plain": [
              "((710, 2), (474, 2))"
            ]
          },
          "metadata": {
            "tags": []
          },
          "execution_count": 16
        }
      ]
    },
    {
      "cell_type": "markdown",
      "metadata": {
        "id": "BhMPUCys0DDa",
        "colab_type": "text"
      },
      "source": [
        "# Preparing Data\n",
        "\n",
        "---\n",
        "\n",
        "Here we'll use the fastai library to prepare our data for the language model, and prepare our data for the classification model:"
      ]
    },
    {
      "cell_type": "code",
      "metadata": {
        "id": "A1gp0ogW0GVh",
        "colab_type": "code",
        "colab": {}
      },
      "source": [
        "# Language model data\n",
        "data_lm = TextLMDataBunch.from_df(train_df = df_trn, valid_df = df_val, path = \"\")\n",
        "\n",
        "# Classifier model data\n",
        "data_clas = TextClasDataBunch.from_df(path = \"\", train_df = df_trn, valid_df = df_val, vocab=data_lm.train_ds.vocab, bs=32)"
      ],
      "execution_count": 0,
      "outputs": []
    },
    {
      "cell_type": "markdown",
      "metadata": {
        "id": "2LoeDvNW-DAM",
        "colab_type": "text"
      },
      "source": [
        "In the following cell we fine-tune the pre-trained language model using the *data_lm* object we created earlier.\n",
        "\n",
        "Out of this, we create a learner object *learn*, which directly creates a model, downloads the pre-trained weights, and readies itself for fine-tuning:"
      ]
    },
    {
      "cell_type": "code",
      "metadata": {
        "id": "gRowZxQM0IL0",
        "colab_type": "code",
        "colab": {}
      },
      "source": [
        "\n",
        "learn = language_model_learner(data_lm, AWD_LSTM, drop_mult=0.7)"
      ],
      "execution_count": 0,
      "outputs": []
    },
    {
      "cell_type": "markdown",
      "metadata": {
        "id": "W50cjCaf-bQ6",
        "colab_type": "text"
      },
      "source": [
        "What is *fit_one_cycle* and why the heck are we implementing it?\n",
        "\n",
        "Well, one cycle and cyclic momentum allow the model to be trained at higher learning rates while also converging faster.\n",
        "\n",
        "One cycle also provides a model with some form of regularization. Learn more about it [here](https://arxiv.org/abs/1803.09820).  "
      ]
    },
    {
      "cell_type": "code",
      "metadata": {
        "id": "ZWh1G2AK0KFs",
        "colab_type": "code",
        "colab": {
          "base_uri": "https://localhost:8080/",
          "height": 79
        },
        "outputId": "75191873-9f6b-4641-9238-408d20bdebdc"
      },
      "source": [
        "# train the learner object\n",
        "learn.fit_one_cycle(1, 1e-2)"
      ],
      "execution_count": 22,
      "outputs": [
        {
          "output_type": "display_data",
          "data": {
            "text/html": [
              "<table border=\"1\" class=\"dataframe\">\n",
              "  <thead>\n",
              "    <tr style=\"text-align: left;\">\n",
              "      <th>epoch</th>\n",
              "      <th>train_loss</th>\n",
              "      <th>valid_loss</th>\n",
              "      <th>accuracy</th>\n",
              "      <th>time</th>\n",
              "    </tr>\n",
              "  </thead>\n",
              "  <tbody>\n",
              "    <tr>\n",
              "      <td>0</td>\n",
              "      <td>6.669874</td>\n",
              "      <td>5.539165</td>\n",
              "      <td>0.232063</td>\n",
              "      <td>00:05</td>\n",
              "    </tr>\n",
              "  </tbody>\n",
              "</table>"
            ],
            "text/plain": [
              "<IPython.core.display.HTML object>"
            ]
          },
          "metadata": {
            "tags": []
          }
        }
      ]
    },
    {
      "cell_type": "code",
      "metadata": {
        "id": "AsXXziGh0x-x",
        "colab_type": "code",
        "colab": {
          "base_uri": "https://localhost:8080/",
          "height": 55
        },
        "outputId": "3a203e03-e810-4a32-c871-b44eaca5a4cd"
      },
      "source": [
        "learn.lr_find()"
      ],
      "execution_count": 23,
      "outputs": [
        {
          "output_type": "display_data",
          "data": {
            "text/html": [
              ""
            ],
            "text/plain": [
              "<IPython.core.display.HTML object>"
            ]
          },
          "metadata": {
            "tags": []
          }
        },
        {
          "output_type": "stream",
          "text": [
            "LR Finder is complete, type {learner_name}.recorder.plot() to see the graph.\n"
          ],
          "name": "stdout"
        }
      ]
    },
    {
      "cell_type": "code",
      "metadata": {
        "id": "BNFyjFyi00YO",
        "colab_type": "code",
        "colab": {
          "base_uri": "https://localhost:8080/",
          "height": 283
        },
        "outputId": "55442c38-9da5-4b9a-ea0a-0cccbffbd39e"
      },
      "source": [
        "learn.recorder.plot()"
      ],
      "execution_count": 24,
      "outputs": [
        {
          "output_type": "display_data",
          "data": {
            "image/png": "[encoded data removed]",
            "text/plain": [
              "<Figure size 432x288 with 1 Axes>"
            ]
          },
          "metadata": {
            "tags": []
          }
        }
      ]
    },
    {
      "cell_type": "markdown",
      "metadata": {
        "id": "FwdGqDHB_ODD",
        "colab_type": "text"
      },
      "source": [
        "We save this encoder so we can use it for classification:"
      ]
    },
    {
      "cell_type": "code",
      "metadata": {
        "id": "IAi8qV1o04YJ",
        "colab_type": "code",
        "colab": {}
      },
      "source": [
        "learn.save_encoder('ft_enc')"
      ],
      "execution_count": 0,
      "outputs": []
    },
    {
      "cell_type": "markdown",
      "metadata": {
        "id": "Gc7mtMO__g2A",
        "colab_type": "text"
      },
      "source": [
        "Then we'll use the *data_clas* object we created earlier to build a classifier with our fine-tuned encoder:"
      ]
    },
    {
      "cell_type": "code",
      "metadata": {
        "id": "wAQv9N_l07yG",
        "colab_type": "code",
        "colab": {}
      },
      "source": [
        "learn = text_classifier_learner(data_clas, AWD_LSTM, drop_mult=0.7)\n",
        "learn.load_encoder('ft_enc')"
      ],
      "execution_count": 0,
      "outputs": []
    },
    {
      "cell_type": "markdown",
      "metadata": {
        "id": "xxPebW7H_sYC",
        "colab_type": "text"
      },
      "source": [
        "Again, we'll fit and plot our model:"
      ]
    },
    {
      "cell_type": "code",
      "metadata": {
        "id": "KzRfzgxl0-Ij",
        "colab_type": "code",
        "colab": {
          "base_uri": "https://localhost:8080/",
          "height": 321
        },
        "outputId": "6120aada-1e05-4d94-f79d-5cd15265301a"
      },
      "source": [
        "learn.lr_find()\n",
        "learn.recorder.plot()"
      ],
      "execution_count": 31,
      "outputs": [
        {
          "output_type": "display_data",
          "data": {
            "text/html": [
              ""
            ],
            "text/plain": [
              "<IPython.core.display.HTML object>"
            ]
          },
          "metadata": {
            "tags": []
          }
        },
        {
          "output_type": "stream",
          "text": [
            "LR Finder is complete, type {learner_name}.recorder.plot() to see the graph.\n"
          ],
          "name": "stdout"
        },
        {
          "output_type": "display_data",
          "data": {
            "image/png": "[encoded data removed]",
            "text/plain": [
              "<Figure size 432x288 with 1 Axes>"
            ]
          },
          "metadata": {
            "tags": []
          }
        }
      ]
    },
    {
      "cell_type": "code",
      "metadata": {
        "id": "75weN-Ec1AXE",
        "colab_type": "code",
        "colab": {
          "base_uri": "https://localhost:8080/",
          "height": 79
        },
        "outputId": "ee981d8e-0248-4ee5-db3f-f674ab477301"
      },
      "source": [
        "learn.fit_one_cycle(1, 1e-2)"
      ],
      "execution_count": 27,
      "outputs": [
        {
          "output_type": "display_data",
          "data": {
            "text/html": [
              "<table border=\"1\" class=\"dataframe\">\n",
              "  <thead>\n",
              "    <tr style=\"text-align: left;\">\n",
              "      <th>epoch</th>\n",
              "      <th>train_loss</th>\n",
              "      <th>valid_loss</th>\n",
              "      <th>accuracy</th>\n",
              "      <th>time</th>\n",
              "    </tr>\n",
              "  </thead>\n",
              "  <tbody>\n",
              "    <tr>\n",
              "      <td>0</td>\n",
              "      <td>5.767837</td>\n",
              "      <td>5.115008</td>\n",
              "      <td>0.261049</td>\n",
              "      <td>00:05</td>\n",
              "    </tr>\n",
              "  </tbody>\n",
              "</table>"
            ],
            "text/plain": [
              "<IPython.core.display.HTML object>"
            ]
          },
          "metadata": {
            "tags": []
          }
        }
      ]
    },
    {
      "cell_type": "markdown",
      "metadata": {
        "id": "yHbM9ZUS_1IS",
        "colab_type": "text"
      },
      "source": [
        "Talk about a fine howdy-doo. We've experienced a meteoric increase in the accuracy, plus the validation loss is far less than the training loss. Considering how small our dataset was, it's pretty darn outstanding what ULMFiT has accomplished. One last thing: if you'd like to get the predictions for the validation set out of the learner object, use the code below:"
      ]
    },
    {
      "cell_type": "code",
      "metadata": {
        "id": "MEQfUE30Adzo",
        "colab_type": "code",
        "colab": {
          "base_uri": "https://localhost:8080/",
          "height": 110
        },
        "outputId": "89a8e0a7-7673-4114-975a-62124c740eeb"
      },
      "source": [
        "preds, targets = learn.get_preds()\n",
        "\n",
        "predictions = np.argmax(preds, axis = 1)\n",
        "pd.crosstab(predictions, targets)"
      ],
      "execution_count": 33,
      "outputs": [
        {
          "output_type": "execute_result",
          "data": {
            "text/html": [
              "<div>\n",
              "<style scoped>\n",
              "    .dataframe tbody tr th:only-of-type {\n",
              "        vertical-align: middle;\n",
              "    }\n",
              "\n",
              "    .dataframe tbody tr th {\n",
              "        vertical-align: top;\n",
              "    }\n",
              "\n",
              "    .dataframe thead th {\n",
              "        text-align: right;\n",
              "    }\n",
              "</style>\n",
              "<table border=\"1\" class=\"dataframe\">\n",
              "  <thead>\n",
              "    <tr style=\"text-align: right;\">\n",
              "      <th>col_0</th>\n",
              "      <th>0</th>\n",
              "      <th>1</th>\n",
              "    </tr>\n",
              "    <tr>\n",
              "      <th>row_0</th>\n",
              "      <th></th>\n",
              "      <th></th>\n",
              "    </tr>\n",
              "  </thead>\n",
              "  <tbody>\n",
              "    <tr>\n",
              "      <th>1</th>\n",
              "      <td>234</td>\n",
              "      <td>240</td>\n",
              "    </tr>\n",
              "  </tbody>\n",
              "</table>\n",
              "</div>"
            ],
            "text/plain": [
              "col_0    0    1\n",
              "row_0          \n",
              "1      234  240"
            ]
          },
          "metadata": {
            "tags": []
          },
          "execution_count": 33
        }
      ]
    },
    {
      "cell_type": "markdown",
      "metadata": {
        "id": "1imx8m61AfV9",
        "colab_type": "text"
      },
      "source": [
        "## the end."
      ]
    }
  ]
}